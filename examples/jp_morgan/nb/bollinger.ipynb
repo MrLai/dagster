{
 "cells": [
  {
   "cell_type": "code",
   "execution_count": null,
   "metadata": {},
   "outputs": [],
   "source": [
    "%load_ext autoreload\n",
    "%autoreload 1\n",
    "%config InteractiveShell.ast_node_interactivity='last_expr_or_assign'\n",
    "\n",
    "import warnings\n",
    "\n",
    "import dagster\n",
    "warnings.filterwarnings(\"ignore\", category=dagster.ExperimentalWarning)\n",
    "import matplotlib.pyplot as plt\n",
    "import seaborn as sns\n",
    "import pandas as pd\n",
    "import pandera as pa\n",
    "\n",
    "from playground.util import resolve_data_path\n",
    "import playground.repos.jp_morgan.lib as jpm\n",
    "\n",
    "%aimport playground.repos.jp_morgan.lib\n"
   ]
  },
  {
   "cell_type": "code",
   "execution_count": null,
   "metadata": {},
   "outputs": [],
   "source": [
    "PRICES = jpm.load_sp500_prices()"
   ]
  },
  {
   "cell_type": "code",
   "execution_count": null,
   "metadata": {},
   "outputs": [],
   "source": [
    "BOLL = jpm.compute_bollinger_multi(PRICES)"
   ]
  },
  {
   "cell_type": "code",
   "execution_count": null,
   "metadata": {},
   "outputs": [],
   "source": [
    "ANOMALIES = jpm.compute_anomalous_events(BOLL)"
   ]
  },
  {
   "cell_type": "code",
   "execution_count": null,
   "metadata": {},
   "outputs": [],
   "source": [
    "plt.figure(figsize=(16,30))\n",
    "for i,n in enumerate(BOLL.name.unique()[:5]):\n",
    "    bdf = BOLL[BOLL.name == n]\n",
    "    plt.subplot(5, 1, i+1)\n",
    "    plt.title(n)\n",
    "    plt.plot(bdf['price'])\n",
    "    plt.plot(bdf['upper'])\n",
    "    plt.plot(bdf['lower'])"
   ]
  },
  {
   "cell_type": "code",
   "execution_count": null,
   "metadata": {},
   "outputs": [],
   "source": [
    "top_20 = (ANOMALIES.groupby('name').size()\n",
    "    .sort_values(ascending=False)[:20].index.to_list())\n",
    "plt.figure(figsize=(16,6))\n",
    "df = ANOMALIES[ANOMALIES.name.isin(top_20)]\n",
    "sns.stripplot(x='name', y='date', data=df, hue='type')"
   ]
  },
  {
   "cell_type": "code",
   "execution_count": null,
   "metadata": {},
   "outputs": [],
   "source": [
    "# plt.figure(figsize=(16,16))\n",
    "years = [pd.Timestamp(year, 1, 1) for year in range(2013,2019)]\n",
    "plt.xticks(years)\n",
    "targets = list(ANOMALIES.name.unique()[:2])\n",
    "df = ANOMALIES[ANOMALIES.name.isin(targets)]\n",
    "sns.stripplot(x='date', y='name', data=df)\n",
    "# sns.stripplot(x='date', y='name', data=df, hue='type')"
   ]
  }
 ],
 "metadata": {
  "interpreter": {
   "hash": "af87f7a4a49b7d78afa3ad6021606e7a9da34bc478d411f549c5e02e4e8591c6"
  },
  "kernelspec": {
   "display_name": "Python 3.9.8 64-bit ('.venv': venv)",
   "language": "python",
   "name": "python3"
  },
  "language_info": {
   "codemirror_mode": {
    "name": "ipython",
    "version": 3
   },
   "file_extension": ".py",
   "mimetype": "text/x-python",
   "name": "python",
   "nbconvert_exporter": "python",
   "pygments_lexer": "ipython3",
   "version": "3.9.8"
  },
  "orig_nbformat": 4
 },
 "nbformat": 4,
 "nbformat_minor": 2
}
